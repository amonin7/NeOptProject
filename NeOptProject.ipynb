{
 "cells": [
  {
   "cell_type": "code",
   "execution_count": 2,
   "metadata": {},
   "outputs": [],
   "source": [
    "import matplotlib.pyplot as plt\n",
    "import requests\n",
    "import numpy as np\n",
    "import pickle\n",
    "import gzip\n",
    "import torch\n",
    "import math"
   ]
  },
  {
   "cell_type": "code",
   "execution_count": 3,
   "metadata": {},
   "outputs": [],
   "source": [
    "from copy import copy\n",
    "from pathlib import Path\n",
    "from matplotlib import pyplot as plt"
   ]
  },
  {
   "cell_type": "code",
   "execution_count": 4,
   "metadata": {},
   "outputs": [],
   "source": [
    "def prepare_data():\n",
    "    DATA_PATH = Path(\"data\")\n",
    "    PATH = DATA_PATH / \"mnist\"\n",
    " \n",
    "    PATH.mkdir(parents=True, exist_ok=True)\n",
    " \n",
    "    URL = \"http://deeplearning.net/data/mnist/\"\n",
    "    FILENAME = \"mnist.pkl.gz\"\n",
    " \n",
    "    if not (PATH / FILENAME).exists():\n",
    "            content = requests.get(URL + FILENAME).content\n",
    "            (PATH / FILENAME).open(\"wb\").write(content)\n",
    " \n",
    "    with gzip.open((PATH / FILENAME).as_posix(), \"rb\") as f:\n",
    "            ((x_train, y_train), (x_valid, y_valid), _) = pickle.load(f, encoding=\"latin-1\")\n",
    " \n",
    "    x_train, y_train, x_valid, y_valid = map(\n",
    "        torch.tensor, (x_train, y_train, x_valid, y_valid)\n",
    "    )\n",
    "   \n",
    "    return x_train, y_train\n"
   ]
  },
  {
   "cell_type": "code",
   "execution_count": 5,
   "metadata": {},
   "outputs": [],
   "source": [
    "def log_softmax(x):\n",
    "    return x - x.exp().sum(-1).log().unsqueeze(-1)\n",
    " \n",
    "def model(xb):\n",
    "    return log_softmax(xb @ y_weights + y_bias)\n",
    " \n",
    "def nll(input_, target):\n",
    "    return -input_[range(target.shape[0]), target].mean()\n",
    " \n",
    "def accuracy(out, yb):\n",
    "    preds = torch.argmax(out, dim=1)\n",
    "    return (preds == yb).float().mean()"
   ]
  },
  {
   "cell_type": "code",
   "execution_count": 6,
   "metadata": {},
   "outputs": [],
   "source": [
    "y_weights = torch.randn(784, 10) / math.sqrt(784)\n",
    "y_weights.requires_grad_()\n",
    "u_weights = torch.randn(784, 10) / math.sqrt(784)\n",
    "u_weights.requires_grad_()\n",
    "y_bias = torch.zeros(10, requires_grad=True)\n",
    "u_bias = torch.zeros(10, requires_grad=True)\n",
    "alpha_k = 0.01\n",
    "A_k = 0.0\n",
    "M_k = 2 # Change it later\n",
    "L_k = 6 * M_k\n",
    "max_iter = 100 # how many iters to train for"
   ]
  },
  {
   "cell_type": "code",
   "execution_count": 7,
   "metadata": {},
   "outputs": [],
   "source": [
    "x_train, y_train = prepare_data()\n",
    "loss_func = nll"
   ]
  },
  {
   "cell_type": "code",
   "execution_count": 8,
   "metadata": {},
   "outputs": [],
   "source": [
    "losses_values = []\n",
    "accuracy_values = []"
   ]
  },
  {
   "cell_type": "code",
   "execution_count": null,
   "metadata": {},
   "outputs": [],
   "source": []
  },
  {
   "cell_type": "code",
   "execution_count": 9,
   "metadata": {},
   "outputs": [
    {
     "data": {
      "image/png": "[encoded data removed]",
      "text/plain": [
       "<Figure size 864x360 with 2 Axes>"
      ]
     },
     "metadata": {
      "needs_background": "light"
     },
     "output_type": "display_data"
    }
   ],
   "source": [
    "for iter_num in range(max_iter):\n",
    "    pred = model(x_train)\n",
    "    loss = loss_func(pred, y_train)\n",
    "    accuracy_val = accuracy(pred, y_train)\n",
    "   \n",
    "    losses_values.append(loss)\n",
    "    accuracy_values.append(accuracy_val)\n",
    "   \n",
    "    loss.backward()\n",
    "    with torch.no_grad():\n",
    "        alpha_k = (1 / L_k + np.sqrt(1 / L_k**2 + 4 * A_k / L_k))/2\n",
    "        A_k_next = A_k + alpha_k\n",
    "       \n",
    "        x_weights = y_weights * A_k / A_k_next + u_weights * alpha_k / A_k_next\n",
    "        x_bias = y_bias * A_k / A_k_next + u_bias * alpha_k / A_k_next\n",
    "        y_weights.copy_(-y_weights.grad / M_k + x_weights)\n",
    "        y_bias.copy_(-y_bias.grad / M_k + x_bias)\n",
    "        u_weights.copy_(u_weights - alpha_k * y_weights.grad)\n",
    "        u_bias.copy_(u_bias - alpha_k * y_bias.grad)\n",
    "       \n",
    "        y_weights.grad.zero_()\n",
    "        y_bias.grad.zero_() \n",
    "        A_k = copy(A_k_next)\n",
    " \n",
    "f, ax = plt.subplots(1, 2, figsize=(12, 5))\n",
    "ax[0].set_title(\"Loss\")\n",
    "ax[1].set_title(\"Accuracy\")\n",
    "ax[0].plot([losses_values[i].detach() for i in range(max_iter)])\n",
    "ax[1].plot(accuracy_values)\n",
    "plt.show()"
   ]
  },
  {
   "cell_type": "code",
   "execution_count": null,
   "metadata": {},
   "outputs": [],
   "source": []
  }
 ],
 "metadata": {
  "kernelspec": {
   "display_name": "Python 3",
   "language": "python",
   "name": "python3"
  },
  "language_info": {
   "codemirror_mode": {
    "name": "ipython",
    "version": 3
   },
   "file_extension": ".py",
   "mimetype": "text/x-python",
   "name": "python",
   "nbconvert_exporter": "python",
   "pygments_lexer": "ipython3",
   "version": "3.6.8"
  }
 },
 "nbformat": 4,
 "nbformat_minor": 2
}
